{
 "cells": [
  {
   "cell_type": "code",
   "execution_count": 1,
   "id": "a7bef061-d840-41db-8ddd-ecf86fda1785",
   "metadata": {},
   "outputs": [],
   "source": [
    "# Q4. Why self is used in OOPs?"
   ]
  },
  {
   "cell_type": "markdown",
   "id": "9e4493b3-da3d-4560-ae50-6090bdcf24a1",
   "metadata": {},
   "source": [
    "The self parameter is a reference to the current instance of the class, and is used to access variables that belongs to the class.\n",
    "\n",
    "self is not the reserve keyword. You can also use whatever you like, but it has to be the first parameter of any function in the class."
   ]
  },
  {
   "cell_type": "code",
   "execution_count": 19,
   "id": "2884b7af-4d64-4edb-86af-3248bd9184eb",
   "metadata": {},
   "outputs": [],
   "source": [
    "class car:\n",
    "    \n",
    "     def __init__(self, name_of_vehicle, max_speed, average_of_veh):\n",
    "        self.name_of_vehicle = name_of_vehicle\n",
    "        self.max_speed = max_speed\n",
    "        self.average_of_veh = average_of_veh"
   ]
  },
  {
   "cell_type": "code",
   "execution_count": 20,
   "id": "8854a3a4-3e19-4e96-9c98-bcc70882c124",
   "metadata": {},
   "outputs": [],
   "source": [
    "class car1:\n",
    "    \n",
    "     def __init__(henil, name_of_vehicle, max_speed, average_of_veh):\n",
    "        henil.name_of_vehicle1 = name_of_vehicle\n",
    "        henil.max_speed1 = max_speed\n",
    "        henil.average_of_veh1 = average_of_veh"
   ]
  },
  {
   "cell_type": "code",
   "execution_count": 21,
   "id": "e6bb4bbe-f814-47a2-907f-4ce74fbaf181",
   "metadata": {},
   "outputs": [],
   "source": [
    "a = car(\"Tata Nexon\", 220, 25)"
   ]
  },
  {
   "cell_type": "code",
   "execution_count": 22,
   "id": "e88ff949-168e-477c-b85a-51a0b9ff3f82",
   "metadata": {},
   "outputs": [
    {
     "data": {
      "text/plain": [
       "'Tata Nexon'"
      ]
     },
     "execution_count": 22,
     "metadata": {},
     "output_type": "execute_result"
    }
   ],
   "source": [
    "a.name_of_vehicle"
   ]
  },
  {
   "cell_type": "code",
   "execution_count": 25,
   "id": "99de7b1c-9d37-4291-9b61-c2466ee0f6c9",
   "metadata": {},
   "outputs": [],
   "source": [
    "b = car1(\"Mahindra KUV100\", 220, 20)"
   ]
  },
  {
   "cell_type": "code",
   "execution_count": 26,
   "id": "bd9c9dec-dedc-4867-adb5-d8e3f9ac32ce",
   "metadata": {},
   "outputs": [
    {
     "data": {
      "text/plain": [
       "'Mahindra KUV100'"
      ]
     },
     "execution_count": 26,
     "metadata": {},
     "output_type": "execute_result"
    }
   ],
   "source": [
    "b.name_of_vehicle1"
   ]
  }
 ],
 "metadata": {
  "kernelspec": {
   "display_name": "Python 3 (ipykernel)",
   "language": "python",
   "name": "python3"
  },
  "language_info": {
   "codemirror_mode": {
    "name": "ipython",
    "version": 3
   },
   "file_extension": ".py",
   "mimetype": "text/x-python",
   "name": "python",
   "nbconvert_exporter": "python",
   "pygments_lexer": "ipython3",
   "version": "3.10.8"
  }
 },
 "nbformat": 4,
 "nbformat_minor": 5
}
