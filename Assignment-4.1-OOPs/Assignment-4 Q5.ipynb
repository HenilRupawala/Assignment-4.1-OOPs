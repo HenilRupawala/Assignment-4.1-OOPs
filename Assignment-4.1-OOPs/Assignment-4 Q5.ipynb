{
 "cells": [
  {
   "cell_type": "code",
   "execution_count": 1,
   "id": "efbeeb52-fb5e-47a2-a69f-b5507989ccba",
   "metadata": {},
   "outputs": [],
   "source": [
    "# Q5. What is inheritance? Give an example for each type of inheritance."
   ]
  },
  {
   "cell_type": "markdown",
   "id": "2794bf26-de0f-4d74-a420-cf656117ef7f",
   "metadata": {},
   "source": [
    "When a class derives from another class. The child class will inherit all the public and protected properties and methods from the parent class. In addition, it can have its own properties and methods,this is called as inheritance."
   ]
  },
  {
   "cell_type": "markdown",
   "id": "74f441a6-be71-4173-b75d-cd57bcbb83d3",
   "metadata": {},
   "source": [
    "Types of inheritance:\n",
    "\n",
    "1. Single inheritance\n",
    "2. Multiple inheritance\n",
    "3. Multilevel inheritance\n",
    "4. Hierarchical Inheritance\n",
    "5. Hybrid Inheritance"
   ]
  },
  {
   "cell_type": "markdown",
   "id": "fa53da95-a709-44d4-bcda-5e39b20e76d7",
   "metadata": {},
   "source": [
    "Single inheritance:-\n",
    "\n",
    "Single inheritance enables a derived class to inherit properties from a single parent class, thus enabling code reusability and the addition of new features to existing code.\n",
    "\n",
    "Example:"
   ]
  },
  {
   "cell_type": "code",
   "execution_count": 2,
   "id": "732c916a-78e3-49a1-a23d-2abe2bd81958",
   "metadata": {},
   "outputs": [
    {
     "name": "stdout",
     "output_type": "stream",
     "text": [
      "This function is in parent class.\n",
      "This function is in child class.\n"
     ]
    }
   ],
   "source": [
    "class Parent:\n",
    "    def func1(self):\n",
    "        print(\"This function is in parent class.\")\n",
    " \n",
    "class Child(Parent):\n",
    "    def func2(self):\n",
    "        print(\"This function is in child class.\")\n",
    " \n",
    "object = Child()\n",
    "object.func1()\n",
    "object.func2()"
   ]
  },
  {
   "cell_type": "code",
   "execution_count": null,
   "id": "483e0b9f-4ab3-4ef7-9ec9-08fc3c731172",
   "metadata": {},
   "outputs": [],
   "source": []
  },
  {
   "cell_type": "markdown",
   "id": "b7732767-7998-465f-ac2b-f90f4de2c68f",
   "metadata": {},
   "source": [
    "Multiple inheritance:-\n",
    "\n",
    "When a class can be derived from more than one base class this type of inheritance is called multiple inheritances. In multiple inheritances, all the features of the base classes are inherited into the derived class.\n",
    "\n",
    "Example:"
   ]
  },
  {
   "cell_type": "code",
   "execution_count": 6,
   "id": "cb6e679a-86e1-4e78-aa7c-6fdd39de05e3",
   "metadata": {},
   "outputs": [
    {
     "name": "stdout",
     "output_type": "stream",
     "text": [
      "Father name is : Mommy\n",
      "Mother : Daddy\n"
     ]
    }
   ],
   "source": [
    "class Mother:\n",
    "    mothername = \"\"\n",
    " \n",
    "    def mother(self):\n",
    "        print(self.mothername)\n",
    " \n",
    " \n",
    "class Father:\n",
    "    fathername = \"\"\n",
    " \n",
    "    def father(self):\n",
    "        print(self.fathername)\n",
    " \n",
    " \n",
    "class Son(Mother, Father):\n",
    "    def parents(self):\n",
    "        print(\"Father name is :\", self.fathername)\n",
    "        print(\"Mother :\", self.mothername)\n",
    "        \n",
    "s1 = Son()\n",
    "s1.fathername = \"Mommy\"\n",
    "s1.mothername = \"Daddy\"\n",
    "s1.parents()"
   ]
  },
  {
   "cell_type": "code",
   "execution_count": null,
   "id": "a059c096-e960-4ff5-9272-b1ecf932fac7",
   "metadata": {},
   "outputs": [],
   "source": []
  },
  {
   "cell_type": "markdown",
   "id": "50d2c1d5-6475-4254-ac2e-479b0145ca91",
   "metadata": {},
   "source": [
    "Multilevel inheritance:-\n",
    "\n",
    "In multilevel inheritance, features of the base class and the derived class are further inherited into the new derived class. This is similar to a relationship representing a child and a grandfather.\n",
    "\n",
    "Example:"
   ]
  },
  {
   "cell_type": "code",
   "execution_count": 7,
   "id": "ca05821d-aec9-4d60-8e71-b595ad1a77d9",
   "metadata": {},
   "outputs": [
    {
     "name": "stdout",
     "output_type": "stream",
     "text": [
      "Natvarlal\n",
      "Grandfather name : Natvarlal\n",
      "Father name : Indravadan\n",
      "Son name : Henil\n"
     ]
    }
   ],
   "source": [
    "class Grandfather:\n",
    " \n",
    "    def __init__(self, grandfathername):\n",
    "        self.grandfathername = grandfathername\n",
    " \n",
    " \n",
    "class Father(Grandfather):\n",
    "    def __init__(self, fathername, grandfathername):\n",
    "        self.fathername = fathername\n",
    "        Grandfather.__init__(self, grandfathername)\n",
    "class Son(Father):\n",
    "    def __init__(self, sonname, fathername, grandfathername):\n",
    "        self.sonname = sonname\n",
    "        Father.__init__(self, fathername, grandfathername)\n",
    " \n",
    "    def print_name(self):\n",
    "        print('Grandfather name :', self.grandfathername)\n",
    "        print(\"Father name :\", self.fathername)\n",
    "        print(\"Son name :\", self.sonname)\n",
    "        \n",
    "s1 = Son('Henil', 'Indravadan', 'Natvarlal')\n",
    "print(s1.grandfathername)\n",
    "s1.print_name()"
   ]
  },
  {
   "cell_type": "code",
   "execution_count": null,
   "id": "32e98310-e976-48cd-af91-59b82d364c2d",
   "metadata": {},
   "outputs": [],
   "source": []
  },
  {
   "cell_type": "markdown",
   "id": "5af7be14-282a-4f56-8f1f-ba0c6e821a20",
   "metadata": {},
   "source": [
    "Hierarchical Inheritance:-\n",
    "\n",
    "When more than one derived class are created from a single base this type of inheritance is called hierarchical inheritance. In this program, we have a parent (base) class and two child (derived) classes.\n",
    "\n",
    "Example:"
   ]
  },
  {
   "cell_type": "code",
   "execution_count": 14,
   "id": "1cfc1839-d4af-46d4-b205-678738297b38",
   "metadata": {},
   "outputs": [
    {
     "name": "stdout",
     "output_type": "stream",
     "text": [
      "This function is in parent class.\n",
      "This function is in child 1.\n",
      "This function is in parent class.\n",
      "This function is in child 2.\n"
     ]
    }
   ],
   "source": [
    "class Parent:\n",
    "    def func1(self):\n",
    "        print(\"This function is in parent class.\")\n",
    "\n",
    "class Child1(Parent):\n",
    "    def func2(self):\n",
    "        print(\"This function is in child 1.\")\n",
    "      \n",
    "class Child2(Parent):\n",
    "    def func3(self):\n",
    "        print(\"This function is in child 2.\")\n",
    " \n",
    "object1 = Child1()\n",
    "object2 = Child2()\n",
    "object1.func1()\n",
    "object1.func2()\n",
    "object2.func1()\n",
    "object2.func3()"
   ]
  },
  {
   "cell_type": "code",
   "execution_count": null,
   "id": "acf2b521-41a0-42dd-b637-623eaa1fb3ba",
   "metadata": {},
   "outputs": [],
   "source": []
  },
  {
   "cell_type": "markdown",
   "id": "904b0ea7-37ba-461a-94f6-b43c95eb6abc",
   "metadata": {},
   "source": [
    "Hybrid Inheritance:-\n",
    "\n",
    "Inheritance consisting of multiple types of inheritance is called hybrid inheritance.\n",
    "\n",
    "Example:"
   ]
  },
  {
   "cell_type": "code",
   "execution_count": 15,
   "id": "521b18c7-50a0-430d-8e5d-e157f23258b7",
   "metadata": {},
   "outputs": [
    {
     "name": "stdout",
     "output_type": "stream",
     "text": [
      "This function is in school.\n",
      "This function is in student 1. \n"
     ]
    }
   ],
   "source": [
    "class School:\n",
    "    def func1(self):\n",
    "        print(\"This function is in school.\")\n",
    " \n",
    " \n",
    "class Student1(School):\n",
    "    def func2(self):\n",
    "        print(\"This function is in student 1. \")\n",
    " \n",
    " \n",
    "class Student2(School):\n",
    "    def func3(self):\n",
    "        print(\"This function is in student 2.\")\n",
    " \n",
    " \n",
    "class Student3(Student1, School):\n",
    "    def func4(self):\n",
    "        print(\"This function is in student 3.\")\n",
    " \n",
    "object = Student3()\n",
    "object.func1()\n",
    "object.func2()"
   ]
  }
 ],
 "metadata": {
  "kernelspec": {
   "display_name": "Python 3 (ipykernel)",
   "language": "python",
   "name": "python3"
  },
  "language_info": {
   "codemirror_mode": {
    "name": "ipython",
    "version": 3
   },
   "file_extension": ".py",
   "mimetype": "text/x-python",
   "name": "python",
   "nbconvert_exporter": "python",
   "pygments_lexer": "ipython3",
   "version": "3.10.8"
  }
 },
 "nbformat": 4,
 "nbformat_minor": 5
}
