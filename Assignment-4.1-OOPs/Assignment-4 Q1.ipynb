{
 "cells": [
  {
   "cell_type": "code",
   "execution_count": 1,
   "id": "53cc4fe0-db4a-411a-9f70-5c254f1471f2",
   "metadata": {},
   "outputs": [],
   "source": [
    "# Q1. Explain Class and Object with respect to Object-Oriented Programming. Give a suitable example."
   ]
  },
  {
   "cell_type": "markdown",
   "id": "f3f444cb-7e70-43b2-b985-63ed4daa65a7",
   "metadata": {},
   "source": [
    "Class:-\n",
    "\n",
    "Class is just a classification of the real world entity. It's also called a bluprint/skeleton of the real world entity. But it's not specified the entity. For Example, I want to buy a car. So, I have to choose company, model, color, seating capacity and etc. Car is just a classification of vehicle."
   ]
  },
  {
   "cell_type": "markdown",
   "id": "5eb6361c-e936-47ed-b6c0-d94f5e37517e",
   "metadata": {},
   "source": [
    "Object:-\n",
    "\n",
    "Object is a real world entity. It is also know as instance and vaiable. For Example, Tata Nexon is an object of class car. Peacock is an object of class bird. Dog is an object of class animal."
   ]
  },
  {
   "cell_type": "code",
   "execution_count": 7,
   "id": "7ae28404-5439-41c7-a68f-49b41c6bb893",
   "metadata": {},
   "outputs": [
    {
     "name": "stdout",
     "output_type": "stream",
     "text": [
      "<class 'int'>\n",
      "<class 'str'>\n"
     ]
    }
   ],
   "source": [
    "marks = 50\n",
    "name = \"Henil\"\n",
    "\n",
    "print(type(a))\n",
    "print(type(b))"
   ]
  },
  {
   "cell_type": "markdown",
   "id": "c531ca74-e6d3-4316-9b21-243d68fa7d51",
   "metadata": {},
   "source": [
    "marks is an object of class 'integer'\n",
    "\n",
    "name is an object of class 'string'"
   ]
  }
 ],
 "metadata": {
  "kernelspec": {
   "display_name": "Python 3 (ipykernel)",
   "language": "python",
   "name": "python3"
  },
  "language_info": {
   "codemirror_mode": {
    "name": "ipython",
    "version": 3
   },
   "file_extension": ".py",
   "mimetype": "text/x-python",
   "name": "python",
   "nbconvert_exporter": "python",
   "pygments_lexer": "ipython3",
   "version": "3.10.8"
  }
 },
 "nbformat": 4,
 "nbformat_minor": 5
}
