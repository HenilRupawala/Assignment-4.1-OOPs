{
 "cells": [
  {
   "cell_type": "code",
   "execution_count": 1,
   "id": "6d656c6b-eabc-4500-85c2-bd179109bee8",
   "metadata": {},
   "outputs": [],
   "source": [
    "# Q3. Explain why the __init__() function is used. Give a suitable example."
   ]
  },
  {
   "cell_type": "raw",
   "id": "b76d55ae-e48a-44b4-ba26-2f6a094dcf30",
   "metadata": {},
   "source": [
    "__init__() function means intialization. It is a constructor. It is used for pass the specified object data into the class. It thorws an error when you don't pass the required argument/data. For Example,"
   ]
  },
  {
   "cell_type": "code",
   "execution_count": 2,
   "id": "9c6c8037-4c48-442f-8d90-6426927ece68",
   "metadata": {},
   "outputs": [],
   "source": [
    "class car:\n",
    "    \n",
    "     def __init__(self, name_of_vehicle, max_speed, average_of_veh):\n",
    "        self.name_of_vehicle = name_of_vehicle\n",
    "        self.max_speed = max_speed\n",
    "        self.average_of_veh = average_of_veh"
   ]
  },
  {
   "cell_type": "code",
   "execution_count": 6,
   "id": "3d8c6246-1d6b-4d97-831a-a7dd19284b7d",
   "metadata": {},
   "outputs": [
    {
     "ename": "TypeError",
     "evalue": "car.__init__() missing 3 required positional arguments: 'name_of_vehicle', 'max_speed', and 'average_of_veh'",
     "output_type": "error",
     "traceback": [
      "\u001b[0;31m---------------------------------------------------------------------------\u001b[0m",
      "\u001b[0;31mTypeError\u001b[0m                                 Traceback (most recent call last)",
      "Cell \u001b[0;32mIn[6], line 1\u001b[0m\n\u001b[0;32m----> 1\u001b[0m car0 \u001b[38;5;241m=\u001b[39m \u001b[43mcar\u001b[49m\u001b[43m(\u001b[49m\u001b[43m)\u001b[49m\n",
      "\u001b[0;31mTypeError\u001b[0m: car.__init__() missing 3 required positional arguments: 'name_of_vehicle', 'max_speed', and 'average_of_veh'"
     ]
    }
   ],
   "source": [
    "car0 = car()"
   ]
  },
  {
   "cell_type": "markdown",
   "id": "4b5fc98b-64b8-4a81-a6ff-031b27076c58",
   "metadata": {},
   "source": [
    "As you can see, It thorws an error because we didn't pass required arguments/data to the class."
   ]
  },
  {
   "cell_type": "code",
   "execution_count": 4,
   "id": "776abd24-6601-4e44-a8de-e63093818e26",
   "metadata": {},
   "outputs": [],
   "source": [
    "car1 = car(\"Tata Nexon\", 220, 25)"
   ]
  },
  {
   "cell_type": "code",
   "execution_count": 5,
   "id": "bc3155d5-67dd-452b-893a-de73fee4ed73",
   "metadata": {},
   "outputs": [],
   "source": [
    "car2 = car(\"Mahindra KUV100\", 220, 20)"
   ]
  },
  {
   "cell_type": "markdown",
   "id": "e67205fd-f3f8-440b-b125-dbcd32f98135",
   "metadata": {},
   "source": [
    "We can also call the perticular data of that object."
   ]
  },
  {
   "cell_type": "code",
   "execution_count": 7,
   "id": "833b6530-80e7-45b7-b837-0fc4515df842",
   "metadata": {},
   "outputs": [
    {
     "data": {
      "text/plain": [
       "'Tata Nexon'"
      ]
     },
     "execution_count": 7,
     "metadata": {},
     "output_type": "execute_result"
    }
   ],
   "source": [
    "car1.name_of_vehicle"
   ]
  },
  {
   "cell_type": "code",
   "execution_count": 8,
   "id": "4a2a382f-91d2-43a0-ad9c-88f4725efa51",
   "metadata": {},
   "outputs": [
    {
     "data": {
      "text/plain": [
       "220"
      ]
     },
     "execution_count": 8,
     "metadata": {},
     "output_type": "execute_result"
    }
   ],
   "source": [
    "car2.max_speed"
   ]
  }
 ],
 "metadata": {
  "kernelspec": {
   "display_name": "Python 3 (ipykernel)",
   "language": "python",
   "name": "python3"
  },
  "language_info": {
   "codemirror_mode": {
    "name": "ipython",
    "version": 3
   },
   "file_extension": ".py",
   "mimetype": "text/x-python",
   "name": "python",
   "nbconvert_exporter": "python",
   "pygments_lexer": "ipython3",
   "version": "3.10.8"
  }
 },
 "nbformat": 4,
 "nbformat_minor": 5
}
